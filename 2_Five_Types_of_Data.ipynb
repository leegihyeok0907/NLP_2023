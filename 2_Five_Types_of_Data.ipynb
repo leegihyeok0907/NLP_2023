{
  "nbformat": 4,
  "nbformat_minor": 0,
  "metadata": {
    "colab": {
      "provenance": [],
      "authorship_tag": "ABX9TyMdIH0G0FrmOvzDQx3YRhoq",
      "include_colab_link": true
    },
    "kernelspec": {
      "name": "python3",
      "display_name": "Python 3"
    },
    "language_info": {
      "name": "python"
    }
  },
  "cells": [
    {
      "cell_type": "markdown",
      "metadata": {
        "id": "view-in-github",
        "colab_type": "text"
      },
      "source": [
        "<a href=\"https://colab.research.google.com/github/leegihyeok0907/NLP_2023/blob/main/2_Five_Types_of_Data.ipynb\" target=\"_parent\"><img src=\"https://colab.research.google.com/assets/colab-badge.svg\" alt=\"Open In Colab\"/></a>"
      ]
    },
    {
      "cell_type": "code",
      "execution_count": null,
      "metadata": {
        "colab": {
          "base_uri": "https://localhost:8080/"
        },
        "id": "lhrB57l6IyLh",
        "outputId": "596d974f-998b-4563-de3b-f17135f1dada"
      },
      "outputs": [
        {
          "output_type": "execute_result",
          "data": {
            "text/plain": [
              "1"
            ]
          },
          "metadata": {},
          "execution_count": 1
        }
      ],
      "source": [
        "a = 1\n",
        "a"
      ]
    },
    {
      "cell_type": "code",
      "source": [
        "a = 1\n",
        "print(a)"
      ],
      "metadata": {
        "colab": {
          "base_uri": "https://localhost:8080/"
        },
        "id": "9ECL-pe8JXSn",
        "outputId": "e687f8b3-a401-43b5-be46-561b07d5f824"
      },
      "execution_count": null,
      "outputs": [
        {
          "output_type": "stream",
          "name": "stdout",
          "text": [
            "1\n"
          ]
        }
      ]
    },
    {
      "cell_type": "code",
      "source": [
        "c = 3\n",
        "c"
      ],
      "metadata": {
        "colab": {
          "base_uri": "https://localhost:8080/"
        },
        "id": "2tXrVrT8Ja4w",
        "outputId": "7294adc3-1711-4c99-f05e-14aadf6dd6f7"
      },
      "execution_count": null,
      "outputs": [
        {
          "output_type": "execute_result",
          "data": {
            "text/plain": [
              "3"
            ]
          },
          "metadata": {},
          "execution_count": 3
        }
      ]
    },
    {
      "cell_type": "code",
      "source": [
        "b = 2\n",
        "print(b)"
      ],
      "metadata": {
        "colab": {
          "base_uri": "https://localhost:8080/"
        },
        "id": "gapjImOpJezr",
        "outputId": "658a88ad-50d5-4bfa-fe40-59f979b32499"
      },
      "execution_count": null,
      "outputs": [
        {
          "output_type": "stream",
          "name": "stdout",
          "text": [
            "2\n"
          ]
        }
      ]
    },
    {
      "cell_type": "code",
      "source": [
        "print(a + b)"
      ],
      "metadata": {
        "colab": {
          "base_uri": "https://localhost:8080/"
        },
        "id": "Dj1NwO6zJhx6",
        "outputId": "95884efc-fb5d-4204-b874-ac1b56026da5"
      },
      "execution_count": null,
      "outputs": [
        {
          "output_type": "stream",
          "name": "stdout",
          "text": [
            "3\n"
          ]
        }
      ]
    },
    {
      "cell_type": "code",
      "source": [
        "c = \"I love python\"\n",
        "\n",
        "print(c)"
      ],
      "metadata": {
        "colab": {
          "base_uri": "https://localhost:8080/"
        },
        "id": "aMVh-2QxJkHY",
        "outputId": "ca16a951-4a1e-4858-d0a4-25ba3ab1eae0"
      },
      "execution_count": null,
      "outputs": [
        {
          "output_type": "stream",
          "name": "stdout",
          "text": [
            "I love python\n"
          ]
        }
      ]
    },
    {
      "cell_type": "code",
      "source": [
        "a = 'Lori'\n",
        "_b = 'Sam'\n",
        "a_b = 'Ken'\n",
        "c_d = 'Jen'\n",
        "\n",
        "a = 'Emma'"
      ],
      "metadata": {
        "id": "ohzor-B1Jrj7"
      },
      "execution_count": null,
      "outputs": []
    },
    {
      "cell_type": "code",
      "source": [
        "a = 'Lori'\n",
        "print(a)\n",
        "\n",
        "_b = 'Sam'\n",
        "print(_b)\n",
        "\n",
        "a_b = 'Ken'\n",
        "print(a_b)\n",
        "\n",
        "c_d = 'Jen'\n",
        "print(c_d)\n",
        "\n",
        "a= 'Emma'\n",
        "print(a)"
      ],
      "metadata": {
        "colab": {
          "base_uri": "https://localhost:8080/"
        },
        "id": "QpvVZbCMJ0QX",
        "outputId": "9c0c5196-e1a5-41bb-df65-a91c8e239f1e"
      },
      "execution_count": null,
      "outputs": [
        {
          "output_type": "stream",
          "name": "stdout",
          "text": [
            "Lori\n",
            "Sam\n",
            "Ken\n",
            "Jen\n",
            "Emma\n"
          ]
        }
      ]
    },
    {
      "cell_type": "code",
      "source": [
        "d = {\"Mercury\", \"Venus\", \"Earth\", \"Mars\", \"Jupiter\", \"Saturn\", \"Uranus\", \"Neptune\"}\n",
        "e = {\"수성\", \"금성\", \"지구\", \"화성\", \"목성\", \"토성\", \"천황성\", \"혜왕성\"}\n",
        "f = {1, 2, 3, 4, 5, 6, 7, 8, 9, 10}\n",
        "\n",
        "print(d)\n",
        "print(e)\n",
        "print(f)"
      ],
      "metadata": {
        "colab": {
          "base_uri": "https://localhost:8080/"
        },
        "id": "vbschAykJ6Pc",
        "outputId": "f10f8dc4-03f6-4b32-f509-5182219b0574"
      },
      "execution_count": null,
      "outputs": [
        {
          "output_type": "stream",
          "name": "stdout",
          "text": [
            "{'Jupiter', 'Neptune', 'Uranus', 'Mercury', 'Mars', 'Saturn', 'Venus', 'Earth'}\n",
            "{'금성', '지구', '혜왕성', '토성', '목성', '천황성', '화성', '수성'}\n",
            "{1, 2, 3, 4, 5, 6, 7, 8, 9, 10}\n"
          ]
        }
      ]
    },
    {
      "cell_type": "code",
      "source": [
        "g = (\"Mercury\", \"Venus\", \"Earth\", \"Mars\", \"Jupiter\", \"Saturn\", \"Uranus\", \"Neptune\")\n",
        "h = (\"수성\", \"금성\", \"지구\", \"화성\", \"목성\", \"토성\", \"천황성\", \"혜왕성\" )\n",
        "i = (1, 2, 3, 4, 5, 6, 7, 8)\n",
        "\n",
        "print(g)\n",
        "print(h)\n",
        "print(i)"
      ],
      "metadata": {
        "colab": {
          "base_uri": "https://localhost:8080/"
        },
        "id": "V8Gzs2YRKFTD",
        "outputId": "c851c3b8-11e5-4ef1-f982-c7db29b4e416"
      },
      "execution_count": null,
      "outputs": [
        {
          "output_type": "stream",
          "name": "stdout",
          "text": [
            "('Mercury', 'Venus', 'Earth', 'Mars', 'Jupiter', 'Saturn', 'Uranus', 'Neptune')\n",
            "('수성', '금성', '지구', '화성', '목성', '토성', '천황성', '혜왕성')\n",
            "(1, 2, 3, 4, 5, 6, 7, 8)\n"
          ]
        }
      ]
    },
    {
      "cell_type": "code",
      "source": [
        "dict(d = {\"Mercury\", \"Venus\", \"Earth\", \"Mars\", \"Jupiter\", \"Saturn\", \"Uranus\", \"Neptune\"})\n",
        "print(d)"
      ],
      "metadata": {
        "colab": {
          "base_uri": "https://localhost:8080/"
        },
        "id": "5rKLGje3KTCN",
        "outputId": "f13bd116-9e03-465d-ae06-3d4de861ad65"
      },
      "execution_count": null,
      "outputs": [
        {
          "output_type": "stream",
          "name": "stdout",
          "text": [
            "{'Jupiter', 'Neptune', 'Uranus', 'Mercury', 'Mars', 'Saturn', 'Venus', 'Earth'}\n"
          ]
        }
      ]
    },
    {
      "cell_type": "code",
      "source": [
        "k = {'Mercury':'수성', 'Venus':'금성', 'Earth':'지구', 'Mars':'화성', 'Jupiter':'목성', 'Saturn':'토성', 'Uranus':'명왕성', 'Neptune':'해왕성'} #key in English: value in Korean\n",
        "m = {'Mercury 수성':1, 'Venus 금성':2, 'Earth 지구':3, 'Mars 화성':4, 'Jupiter 목성':5, 'Saturn 토성':6, 'Uranus 명왕성':7, 'Neptune 해왕성':8} # i) order of planets from the Sun, ii) key in English and Korean, iii) value in integers\n",
        "\n",
        "print(k)\n",
        "print(m)"
      ],
      "metadata": {
        "colab": {
          "base_uri": "https://localhost:8080/"
        },
        "id": "G0awtqAaKWsZ",
        "outputId": "3c97124e-458c-401d-caf1-9e1e1ebdc488"
      },
      "execution_count": null,
      "outputs": [
        {
          "output_type": "stream",
          "name": "stdout",
          "text": [
            "{'Mercury': '수성', 'Venus': '금성', 'Earth': '지구', 'Mars': '화성', 'Jupiter': '목성', 'Saturn': '토성', 'Uranus': '명왕성', 'Neptune': '해왕성'}\n",
            "{'Mercury 수성': 1, 'Venus 금성': 2, 'Earth 지구': 3, 'Mars 화성': 4, 'Jupiter 목성': 5, 'Saturn 토성': 6, 'Uranus 명왕성': 7, 'Neptune 해왕성': 8}\n"
          ]
        }
      ]
    },
    {
      "cell_type": "code",
      "source": [
        "v = {\"Mercury\":\"수성\", \"Venus\":\"금성\", \"Earth\":\"지구\", \"Mars\":\"화성\", \"Jupiter\":\"목성\", \"Saturn\":\"토성\", \"Uranus\":\"해왕성\", \"Neptune\":\"명왕성\"}\n",
        "print(v)"
      ],
      "metadata": {
        "colab": {
          "base_uri": "https://localhost:8080/"
        },
        "id": "LlBduGadKbEF",
        "outputId": "7f4e2c50-d4c7-4402-f710-ada9e890d0eb"
      },
      "execution_count": null,
      "outputs": [
        {
          "output_type": "stream",
          "name": "stdout",
          "text": [
            "{'Mercury': '수성', 'Venus': '금성', 'Earth': '지구', 'Mars': '화성', 'Jupiter': '목성', 'Saturn': '토성', 'Uranus': '해왕성', 'Neptune': '명왕성'}\n"
          ]
        }
      ]
    },
    {
      "cell_type": "code",
      "source": [
        "dict = {'a':1, 'b':2, 'c':3}\n",
        "print(dict)\n",
        "print(dict['a'])"
      ],
      "metadata": {
        "colab": {
          "base_uri": "https://localhost:8080/"
        },
        "id": "mcavMsG2KedM",
        "outputId": "b6efe3d9-7a93-43c8-acd3-67fa7579bfba"
      },
      "execution_count": null,
      "outputs": [
        {
          "output_type": "stream",
          "name": "stdout",
          "text": [
            "{'a': 1, 'b': 2, 'c': 3}\n",
            "1\n"
          ]
        }
      ]
    },
    {
      "cell_type": "code",
      "source": [
        "dict = {'a':1, 'b':2, 'c':3}\n",
        "print(dict)"
      ],
      "metadata": {
        "colab": {
          "base_uri": "https://localhost:8080/"
        },
        "id": "1trid6KOKiRZ",
        "outputId": "dfe090c8-d764-4c49-a11b-07067eaff1f6"
      },
      "execution_count": null,
      "outputs": [
        {
          "output_type": "stream",
          "name": "stdout",
          "text": [
            "{'a': 1, 'b': 2, 'c': 3}\n"
          ]
        }
      ]
    },
    {
      "cell_type": "code",
      "source": [
        "dict['a']=7\n",
        "print (dict)"
      ],
      "metadata": {
        "colab": {
          "base_uri": "https://localhost:8080/"
        },
        "id": "nR7jND0qKo5_",
        "outputId": "a38e9e83-c16f-45ee-caf4-67909eec1d45"
      },
      "execution_count": null,
      "outputs": [
        {
          "output_type": "stream",
          "name": "stdout",
          "text": [
            "{'a': 7, 'b': 2, 'c': 3}\n"
          ]
        }
      ]
    },
    {
      "cell_type": "code",
      "source": [
        "dict_data = {'c':10, 'b':20, 'a':30}\n",
        "print(dict_data)\n",
        "dict_data['a'] = 300\n",
        "print(dict_data)"
      ],
      "metadata": {
        "colab": {
          "base_uri": "https://localhost:8080/"
        },
        "id": "dlN2WohLKtbv",
        "outputId": "4e8bbd85-22ed-434f-d575-2d7353742f2c"
      },
      "execution_count": null,
      "outputs": [
        {
          "output_type": "stream",
          "name": "stdout",
          "text": [
            "{'c': 10, 'b': 20, 'a': 30}\n",
            "{'c': 10, 'b': 20, 'a': 300}\n"
          ]
        }
      ]
    },
    {
      "cell_type": "code",
      "source": [
        "dict['c'] = 7\n",
        "print(dict)"
      ],
      "metadata": {
        "colab": {
          "base_uri": "https://localhost:8080/"
        },
        "id": "QYTrthh0Ku2q",
        "outputId": "513a8bc3-9b1e-474c-cfd5-d424844d4de5"
      },
      "execution_count": null,
      "outputs": [
        {
          "output_type": "stream",
          "name": "stdout",
          "text": [
            "{'a': 7, 'b': 2, 'c': 7}\n"
          ]
        }
      ]
    },
    {
      "cell_type": "code",
      "source": [
        "print(k['Mercury'])"
      ],
      "metadata": {
        "id": "3CQ6pTh1Kx4W",
        "outputId": "257b9ad8-0f60-4cce-da5c-1cde5ff30949",
        "colab": {
          "base_uri": "https://localhost:8080/"
        }
      },
      "execution_count": null,
      "outputs": [
        {
          "output_type": "stream",
          "name": "stdout",
          "text": [
            "수성\n"
          ]
        }
      ]
    }
  ]
}