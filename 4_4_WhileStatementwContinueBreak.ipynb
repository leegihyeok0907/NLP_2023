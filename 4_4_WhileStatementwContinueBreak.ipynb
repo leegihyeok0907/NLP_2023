{
  "nbformat": 4,
  "nbformat_minor": 0,
  "metadata": {
    "colab": {
      "provenance": [],
      "authorship_tag": "ABX9TyO8Kj8HrDmF0vnA+LrBD20j",
      "include_colab_link": true
    },
    "kernelspec": {
      "name": "python3",
      "display_name": "Python 3"
    },
    "language_info": {
      "name": "python"
    }
  },
  "cells": [
    {
      "cell_type": "markdown",
      "metadata": {
        "id": "view-in-github",
        "colab_type": "text"
      },
      "source": [
        "<a href=\"https://colab.research.google.com/github/leegihyeok0907/NLP_2023/blob/main/4_4_WhileStatementwContinueBreak.ipynb\" target=\"_parent\"><img src=\"https://colab.research.google.com/assets/colab-badge.svg\" alt=\"Open In Colab\"/></a>"
      ]
    },
    {
      "cell_type": "code",
      "execution_count": null,
      "metadata": {
        "colab": {
          "base_uri": "https://localhost:8080/"
        },
        "id": "exRSeryYP9jD",
        "outputId": "77e07e5c-5ce9-4ad2-eb03-f6324c616185"
      },
      "outputs": [
        {
          "output_type": "stream",
          "name": "stdout",
          "text": [
            "1\n",
            "2\n",
            "3\n",
            "4\n",
            "5\n",
            "Loop finished!\n"
          ]
        }
      ],
      "source": [
        "counter = 1\n",
        "\n",
        "while counter <= 5:\n",
        "    print(counter)\n",
        "    counter += 1\n",
        "\n",
        "print(\"Loop finished!\")"
      ]
    },
    {
      "cell_type": "code",
      "source": [
        "x = 1\n",
        "total = 0\n",
        "\n",
        "while 1:\n",
        "    total = total + x\n",
        "\n",
        "    if total > 100000:\n",
        "        print(x)\n",
        "        print(total)\n",
        "        break"
      ],
      "metadata": {
        "colab": {
          "base_uri": "https://localhost:8080/"
        },
        "id": "DlSUJlKvQjZM",
        "outputId": "9f707c9b-663f-4f3b-ab1b-f3f661819b57"
      },
      "execution_count": null,
      "outputs": [
        {
          "output_type": "stream",
          "name": "stdout",
          "text": [
            "1\n",
            "100001\n"
          ]
        }
      ]
    }
  ]
}