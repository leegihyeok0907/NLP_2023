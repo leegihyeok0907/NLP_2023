{
  "nbformat": 4,
  "nbformat_minor": 0,
  "metadata": {
    "colab": {
      "provenance": [],
      "authorship_tag": "ABX9TyOrAhnpxrcwPmclPiVa4S/e",
      "include_colab_link": true
    },
    "kernelspec": {
      "name": "python3",
      "display_name": "Python 3"
    },
    "language_info": {
      "name": "python"
    }
  },
  "cells": [
    {
      "cell_type": "markdown",
      "metadata": {
        "id": "view-in-github",
        "colab_type": "text"
      },
      "source": [
        "<a href=\"https://colab.research.google.com/github/leegihyeok0907/NLP_2023/blob/main/4.3_tryExceptElse_Statement.ipynb\" target=\"_parent\"><img src=\"https://colab.research.google.com/assets/colab-badge.svg\" alt=\"Open In Colab\"/></a>"
      ]
    },
    {
      "cell_type": "code",
      "execution_count": null,
      "metadata": {
        "colab": {
          "base_uri": "https://localhost:8080/"
        },
        "id": "ltApOrB-PAAz",
        "outputId": "da5e3d3f-1581-4695-ee89-deada295efea"
      },
      "outputs": [
        {
          "output_type": "stream",
          "name": "stdout",
          "text": [
            "How are you?\n",
            "예외가 발생하였습니다\n"
          ]
        }
      ],
      "source": [
        "try:\n",
        "  print ('How are you?')\n",
        "  print (param)\n",
        "\n",
        "except:\n",
        "  print ('예외가 발생하였습니다')"
      ]
    },
    {
      "cell_type": "code",
      "source": [
        "try:\n",
        "  print ('How are you?')\n",
        " #print (param)\n",
        "\n",
        "except:\n",
        "  print ('예외가 발생하였습니다')\n",
        "\n",
        "else:\n",
        "  print ('예외가 발생하지 않았습니다')"
      ],
      "metadata": {
        "colab": {
          "base_uri": "https://localhost:8080/"
        },
        "id": "8vQaaHUaPPbg",
        "outputId": "1f9d94e0-1626-4a41-d5d1-b06a91167bb9"
      },
      "execution_count": null,
      "outputs": [
        {
          "output_type": "stream",
          "name": "stdout",
          "text": [
            "How are you?\n",
            "예외가 발생하지 않았습니다\n"
          ]
        }
      ]
    },
    {
      "cell_type": "code",
      "source": [
        "try:\n",
        "  print ('How are you?')\n",
        "#  print (param)\n",
        "\n",
        "except:\n",
        "  print ('Exception occurred.')\n",
        "\n",
        "finally:\n",
        "  print ('This code should be running.')"
      ],
      "metadata": {
        "colab": {
          "base_uri": "https://localhost:8080/"
        },
        "id": "if7ABpsAPaIz",
        "outputId": "22875de2-cdee-4760-de6a-24d20e11ffd4"
      },
      "execution_count": null,
      "outputs": [
        {
          "output_type": "stream",
          "name": "stdout",
          "text": [
            "How are you?\n",
            "This code should be running.\n"
          ]
        }
      ]
    }
  ]
}