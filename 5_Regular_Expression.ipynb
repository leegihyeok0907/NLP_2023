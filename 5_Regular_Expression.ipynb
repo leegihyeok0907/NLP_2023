{
  "nbformat": 4,
  "nbformat_minor": 0,
  "metadata": {
    "colab": {
      "provenance": [],
      "authorship_tag": "ABX9TyOA1iRfge6AZ53KXp874kb0",
      "include_colab_link": true
    },
    "kernelspec": {
      "name": "python3",
      "display_name": "Python 3"
    },
    "language_info": {
      "name": "python"
    }
  },
  "cells": [
    {
      "cell_type": "markdown",
      "metadata": {
        "id": "view-in-github",
        "colab_type": "text"
      },
      "source": [
        "<a href=\"https://colab.research.google.com/github/leegihyeok0907/NLP_2023/blob/main/5_Regular_Expression.ipynb\" target=\"_parent\"><img src=\"https://colab.research.google.com/assets/colab-badge.svg\" alt=\"Open In Colab\"/></a>"
      ]
    },
    {
      "cell_type": "code",
      "execution_count": null,
      "metadata": {
        "colab": {
          "base_uri": "https://localhost:8080/"
        },
        "id": "XQuT87GMR7uH",
        "outputId": "43e2ac41-1f97-408c-b533-67b1b94d2caf"
      },
      "outputs": [
        {
          "output_type": "stream",
          "name": "stdout",
          "text": [
            "Match: cat\n",
            "Match: hat\n",
            "Match: bat\n",
            "Match: sat\n",
            "Match: mat\n",
            "Match: bat\n",
            "Match: bat\n"
          ]
        }
      ],
      "source": [
        "import re\n",
        "\n",
        "text = \"cat, hat, bat, sat, mat, combat, unbated\"\n",
        "pattern = r\".at\"\n",
        "\n",
        "matches = re.findall(pattern, text)\n",
        "\n",
        "for match in matches:\n",
        "    print(\"Match:\", match)"
      ]
    },
    {
      "cell_type": "code",
      "source": [
        "text2 = \"at, cat, at, hat, bat, sat, mat, combat, unbated\"\n",
        "\n",
        "matches = re.findall(pattern, text2)\n",
        "\n",
        "for match in matches:\n",
        "    print(\"Match:\", match)"
      ],
      "metadata": {
        "colab": {
          "base_uri": "https://localhost:8080/"
        },
        "id": "ukRaruBiSLxL",
        "outputId": "ed057f07-9de3-4690-a974-f03220f689d1"
      },
      "execution_count": null,
      "outputs": [
        {
          "output_type": "stream",
          "name": "stdout",
          "text": [
            "Match: cat\n",
            "Match:  at\n",
            "Match: hat\n",
            "Match: bat\n",
            "Match: sat\n",
            "Match: mat\n",
            "Match: bat\n",
            "Match: bat\n"
          ]
        }
      ]
    },
    {
      "cell_type": "code",
      "source": [
        "import re\n",
        "\n",
        "text = \"color or colour?\"\n",
        "pattern = r\"colou?r\"\n",
        "\n",
        "matches = re.findall(pattern, text)\n",
        "\n",
        "for match in matches:\n",
        "    print(\"Match:\", match)"
      ],
      "metadata": {
        "colab": {
          "base_uri": "https://localhost:8080/"
        },
        "id": "N0XCAZjhSvNn",
        "outputId": "9c51f071-9ca5-46be-e256-fb86113c2a80"
      },
      "execution_count": null,
      "outputs": [
        {
          "output_type": "stream",
          "name": "stdout",
          "text": [
            "Match: color\n",
            "Match: colour\n"
          ]
        }
      ]
    },
    {
      "cell_type": "code",
      "source": [
        "text2 = \"color, colour, or coloer?\"\n",
        "pattern = r\"colou?r\"\n",
        "\n",
        "matches = re.findall(pattern, text2)\n",
        "\n",
        "for match in matches:\n",
        "    print(\"Match:\", match)"
      ],
      "metadata": {
        "colab": {
          "base_uri": "https://localhost:8080/"
        },
        "id": "UT3W8rC9Sz7l",
        "outputId": "7850fa6d-8fb5-412c-f970-cf6c4d3b5059"
      },
      "execution_count": null,
      "outputs": [
        {
          "output_type": "stream",
          "name": "stdout",
          "text": [
            "Match: color\n",
            "Match: colour\n"
          ]
        }
      ]
    },
    {
      "cell_type": "code",
      "source": [
        "text = \"ab, ac, abc, abbc, aabbc, abbbbbbbbbbbbbbc\"\n",
        "pattern = r\"ab*c\"\n",
        "\n",
        "matches = re.findall(pattern, text)\n",
        "\n",
        "for match in matches:\n",
        "    print(\"Match:\", match)"
      ],
      "metadata": {
        "colab": {
          "base_uri": "https://localhost:8080/"
        },
        "id": "1fecICRbTCUI",
        "outputId": "6119396c-9a9f-4d54-f315-275da09bafb1"
      },
      "execution_count": null,
      "outputs": [
        {
          "output_type": "stream",
          "name": "stdout",
          "text": [
            "Match: ac\n",
            "Match: abc\n",
            "Match: abbc\n",
            "Match: abbc\n",
            "Match: abbbbbbbbbbbbbbc\n"
          ]
        }
      ]
    },
    {
      "cell_type": "code",
      "source": [
        "text = \"Python is a popular programming language. Python is versatile.\"\n",
        "pattern = r'versatile.$'\n",
        "\n",
        "matches = re.findall(pattern, text)\n",
        "\n",
        "for match in matches:\n",
        "    print(\"Match:\", match)"
      ],
      "metadata": {
        "colab": {
          "base_uri": "https://localhost:8080/"
        },
        "id": "nO2MzU60TI9J",
        "outputId": "35e626be-2806-4d0c-bd95-e7cb37de2e54"
      },
      "execution_count": null,
      "outputs": [
        {
          "output_type": "stream",
          "name": "stdout",
          "text": [
            "Match: versatile.\n"
          ]
        }
      ]
    },
    {
      "cell_type": "code",
      "source": [
        "text = \"Python is a popular programming language. Python is versatile.\"\n",
        "pattern = r'tile.$'\n",
        "\n",
        "matches = re.findall(pattern, text)\n",
        "\n",
        "for match in matches:\n",
        "    print(\"Match:\", match)"
      ],
      "metadata": {
        "colab": {
          "base_uri": "https://localhost:8080/"
        },
        "id": "UcSHpyHGTPcY",
        "outputId": "92df813b-78ea-479f-bafd-8b3066cbbdc2"
      },
      "execution_count": null,
      "outputs": [
        {
          "output_type": "stream",
          "name": "stdout",
          "text": [
            "Match: tile.\n"
          ]
        }
      ]
    },
    {
      "cell_type": "code",
      "source": [
        "text = \"Python is a popular programming language. Python is versatile:\"\n",
        "pattern = r'language.$'\n",
        "\n",
        "matches = re.findall(pattern, text)\n",
        "\n",
        "for match in matches:\n",
        "    print(\"Match:\", match)"
      ],
      "metadata": {
        "id": "c4DALAAuTS8M"
      },
      "execution_count": null,
      "outputs": []
    },
    {
      "cell_type": "code",
      "source": [
        "text = \"Python is a programming language. Python is versatile. We all love Python.\"\n",
        "pattern = r'^Python'\n",
        "\n",
        "matches = re.findall(pattern, text)\n",
        "\n",
        "for match in matches:\n",
        "    print(\"Match:\", match)"
      ],
      "metadata": {
        "colab": {
          "base_uri": "https://localhost:8080/"
        },
        "id": "fRy6sb_sTWY4",
        "outputId": "2ca25cab-a901-433d-f548-9f00a8ea4020"
      },
      "execution_count": null,
      "outputs": [
        {
          "output_type": "stream",
          "name": "stdout",
          "text": [
            "Match: Python\n"
          ]
        }
      ]
    },
    {
      "cell_type": "code",
      "source": [
        "text = \"Python is a programming language. Python is versatile. We all love Python.\"\n",
        "pattern = r'^is'\n",
        "\n",
        "matches = re.findall(pattern, text)\n",
        "\n",
        "for match in matches:\n",
        "    print(\"Match:\", match)"
      ],
      "metadata": {
        "id": "U9kzjBxKTbr3"
      },
      "execution_count": null,
      "outputs": []
    },
    {
      "cell_type": "code",
      "source": [
        "text = \"cat, caat, caaat\"\n",
        "pattern = r\"ca+t\"\n",
        "\n",
        "matches = re.findall(pattern, text)\n",
        "\n",
        "for match in matches:\n",
        "    print(\"Match:\", match)"
      ],
      "metadata": {
        "colab": {
          "base_uri": "https://localhost:8080/"
        },
        "id": "b5UFzhzxTifA",
        "outputId": "59ab77b6-813b-4e80-c956-8296ed423e2e"
      },
      "execution_count": null,
      "outputs": [
        {
          "output_type": "stream",
          "name": "stdout",
          "text": [
            "Match: cat\n",
            "Match: caat\n",
            "Match: caaat\n"
          ]
        }
      ]
    },
    {
      "cell_type": "code",
      "source": [
        "text = \"cat, caat, caaat, sat, set\"\n",
        "pattern = r\"ca+t\"\n",
        "\n",
        "matches = re.findall(pattern, text)\n",
        "\n",
        "for match in matches:\n",
        "    print(\"Match:\", match)"
      ],
      "metadata": {
        "colab": {
          "base_uri": "https://localhost:8080/"
        },
        "id": "WFDILYf-ULhl",
        "outputId": "df84096a-35f0-4e32-a3ac-c131bdbf73e7"
      },
      "execution_count": null,
      "outputs": [
        {
          "output_type": "stream",
          "name": "stdout",
          "text": [
            "Match: cat\n",
            "Match: caat\n",
            "Match: caaat\n"
          ]
        }
      ]
    }
  ]
}